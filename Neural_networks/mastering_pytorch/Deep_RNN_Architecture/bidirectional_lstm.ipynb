{
 "cells": [
  {
   "cell_type": "markdown",
   "id": "a35dc02d",
   "metadata": {},
   "source": [
    "## using Bidirectional LSTMs for sentiment analysis"
   ]
  },
  {
   "cell_type": "markdown",
   "id": "b7053d4a",
   "metadata": {},
   "source": []
  }
 ],
 "metadata": {
  "language_info": {
   "name": "python"
  }
 },
 "nbformat": 4,
 "nbformat_minor": 5
}
