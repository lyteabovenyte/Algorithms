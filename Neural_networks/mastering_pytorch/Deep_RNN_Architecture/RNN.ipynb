{
 "cells": [
  {
   "cell_type": "markdown",
   "metadata": {},
   "source": [
    "#### Deep Recurrent neural networks architecture"
   ]
  },
  {
   "cell_type": "markdown",
   "metadata": {},
   "source": [
    "RNNs are capable of modeling the temporal aspect of data by including additional weights in the model that create cycles in the network. This helps maintain a *state*. The concept of cycles explains the term *recurrence*, and this recurrence helps establish the concept of *memory* in these networks. Essentially, such networks facilitate the use of intermediate outputs at time step $t$ as inputs for time step $t+1$, while maintaining a hidden internal state. **These connections across time steps are called recurrent connections**."
   ]
  },
  {
   "cell_type": "markdown",
   "metadata": {},
   "source": [
    "while RNNs can remember the sequential information across short sequences, they tend to struggle with\n",
    "long sequences due to the larger number of multiplications. *LSTM*s resolve this issue by controlling\n",
    "their input and output using *gates*.\n",
    "\n",
    "An LSTM layer essentially consists of various time-unfolded LSTM cells. Information passes from\n",
    "one cell to another in the form of cell states. These cell states are controlled or manipulated using\n",
    "multiplications and additions using the mechanism of gates"
   ]
  },
  {
   "cell_type": "markdown",
   "metadata": {},
   "source": [
    "<img src=../images/LSTM_gates.png width=800>"
   ]
  },
  {
   "cell_type": "markdown",
   "metadata": {},
   "source": [
    "-----\n",
    "##### difference between vanilla RNNs and Gated ones:\n",
    "\n",
    "a) in vanilla we have:\n",
    "$$h_t = \\tanh(W_{hh} h_{t-1} + W_{xh} x_t + b)$$\n",
    "   1. This formulation blindly updates the hidden state at each time step, with no control over what to keep or what to forget.\n",
    "   2. It leads to vanishing gradients in long sequences, making it hard to learn long-range dependencies."
   ]
  },
  {
   "cell_type": "markdown",
   "metadata": {},
   "source": [
    "b) Gates in LSTM:\n",
    "LSTM maintain two things at each time step:\n",
    "- a **hidden state** $h_t$ (what gets output)\n",
    "- a **cell state** $c_t$ (long-term memory)\n",
    "there are three gates in LSTM:\n",
    "1. **Forget Gate**: Decides what to forget from the previous cell state $c_{t-1}$.\n",
    "$$f_t = \\sigma(W_f \\cdot [h_{t-1}, x_t] + b_f)$$\n",
    "2. **Input Gate**: Decides how much new information to write to the cell.\n",
    "$$i_t = \\sigma(W_i \\cdot [h_{t-1}, x_t] + b_i)$$\n",
    "and also update the cell state:\n",
    "$$c_t = f_t \\odot c_{t-1} + i_t \\odot \\tilde{c}_t$$\n",
    "3. **Output Gate**: Decides what part of the memory should be output.\n",
    "$$o_t = \\sigma(W_o \\cdot [h_{t-1}, x_t] + b_o)$$\n",
    "and finally:\n",
    "$$h_t = o_t \\odot \\tanh(c_t)$$\n"
   ]
  },
  {
   "cell_type": "markdown",
   "metadata": {},
   "source": [
    "----"
   ]
  },
  {
   "cell_type": "markdown",
   "metadata": {},
   "source": [
    "in *Stacked LSTMs*:\n",
    "\n",
    "LSTM cells are, by their very nature, stacked in the time dimension of an LSTM layer. Stacking several\n",
    "such layers in the space dimension provides them with the additional depth in space they need. The\n",
    "downside of these models is that they are significantly slower to train due to the extra depth and extra\n",
    "recurrent connections they have. Furthermore, the additional LSTM layers need to be unrolled (in\n",
    "the time dimension) at every training iteration. Hence, training stacked recurrent models, in general,\n",
    "is not parallelizable."
   ]
  },
  {
   "cell_type": "markdown",
   "metadata": {},
   "source": [
    "### GRUs:\n",
    "\n",
    "The LSTM cell has two states – internal and external – as well as three different gates – input gate,\n",
    "forget gate, and output gate. A similar type of cell, named a gated recurrent unit (GRU), was invented\n",
    "in 2014 with the goal of learning long-term dependencies while effectively dealing with the exploding\n",
    "and vanishing gradients problem."
   ]
  },
  {
   "cell_type": "markdown",
   "metadata": {},
   "source": [
    "<img src=../images/GRU-net.png width=800>"
   ]
  },
  {
   "cell_type": "markdown",
   "metadata": {},
   "source": [
    "#### Training an RNN model using PyTorch for text classification task -sentiment analysis."
   ]
  },
  {
   "cell_type": "markdown",
   "metadata": {},
   "source": [
    "$?$ Tokenization, Embedding, Feature vectors:\n",
    "\n",
    "$!$ Tokenization is the process of converting words into numerical tokens or integers, as we will see in\n",
    "this exercise. Sentences are then equivalent to an array of numbers, each number in the ordered\n",
    "array representing a word. While tokenization provides us with integer indices for each word, we\n",
    "still want to represent each word as a vector of numbers – as a feature – in the feature space of words.\n",
    "Why? Because the information contained in a word cannot just be represented by a single number.\n",
    "*This process of representing words as vectors is called **embedding***, which we will also use later in\n",
    "this exercise. An embedding matrix, which can be learned during model training, acts as a lookup\n",
    "for word vectors. If a word has a token index of 123, then the embedding for that word is the vector\n",
    "contained in row 123 of the embedding matrix."
   ]
  },
  {
   "cell_type": "code",
   "execution_count": 1,
   "metadata": {},
   "outputs": [],
   "source": [
    "import os\n",
    "import time\n",
    "import numpy as np\n",
    "from tqdm import tqdm\n",
    "from string import punctuation\n",
    "from collections import Counter\n",
    "import matplotlib.pyplot as plt\n",
    "\n",
    "import torch\n",
    "import torch.nn as nn\n",
    "import torch.optim as optim\n",
    "from torch.utils.data import DataLoader, TensorDataset\n",
    "device = torch.device('cuda' if torch.cuda.is_available() else 'cpu')\n",
    "\n",
    "torch.use_deterministic_algorithms(True)"
   ]
  },
  {
   "cell_type": "code",
   "execution_count": 2,
   "metadata": {},
   "outputs": [
    {
     "name": "stderr",
     "output_type": "stream",
     "text": [
      "100%|██████████| 12500/12500 [00:02<00:00, 4857.18it/s]\n",
      "100%|██████████| 12500/12500 [00:02<00:00, 4950.33it/s]"
     ]
    },
    {
     "name": "stdout",
     "output_type": "stream",
     "text": [
      "Number of reviews : 25000\n"
     ]
    },
    {
     "name": "stderr",
     "output_type": "stream",
     "text": [
      "\n"
     ]
    }
   ],
   "source": [
    "# read sentiments and reviews data from the text files\n",
    "review_list = []\n",
    "label_list = []\n",
    "for label in ['pos', 'neg']:\n",
    "    for fname in tqdm(os.listdir(f'./aclImdb/train/{label}/')):\n",
    "        if 'txt' not in fname:\n",
    "            continue\n",
    "        with open(os.path.join(f'./aclImdb/train/{label}/', fname), encoding=\"utf8\") as f:\n",
    "            review_list += [f.read()]\n",
    "            label_list += [label]\n",
    "print ('Number of reviews :', len(review_list))"
   ]
  },
  {
   "cell_type": "code",
   "execution_count": 3,
   "metadata": {},
   "outputs": [
    {
     "name": "stderr",
     "output_type": "stream",
     "text": [
      "100%|██████████| 25000/25000 [00:01<00:00, 18183.37it/s]"
     ]
    },
    {
     "name": "stdout",
     "output_type": "stream",
     "text": [
      "[('the', 334691), ('and', 162228), ('a', 161940), ('of', 145326), ('to', 135042), ('is', 106855), ('in', 93028), ('it', 77099), ('i', 75719), ('this', 75190)]\n"
     ]
    },
    {
     "name": "stderr",
     "output_type": "stream",
     "text": [
      "\n"
     ]
    }
   ],
   "source": [
    "# pre-processing review text\n",
    "review_list = [review.lower() for review in review_list]\n",
    "review_list = [''.join([letter for letter in review if letter not in punctuation]) for review in tqdm(review_list)]\n",
    "\n",
    "# accumulate all review texts together\n",
    "review_blob = ' '.join(review_list)\n",
    "\n",
    "# generate a list of all words of all reviews\n",
    "review_words = review_blob.split()\n",
    "\n",
    "# get the word counts\n",
    "count_words = Counter(review_words)\n",
    "\n",
    "# sort words as per counts (decreasing order)\n",
    "total_review_words = len(review_words)\n",
    "sorted_review_words = count_words.most_common(total_review_words)\n",
    "\n",
    "print(sorted_review_words[:10])"
   ]
  },
  {
   "cell_type": "markdown",
   "metadata": {},
   "source": [
    "Ideally, these non-nouns, also referred to as *stop words*, would be removed from the corpus\n",
    "as they do not carry a lot of meaning. However, we will skip those advanced text-processing\n",
    "steps to keep things simple."
   ]
  },
  {
   "cell_type": "code",
   "execution_count": 4,
   "metadata": {},
   "outputs": [
    {
     "name": "stdout",
     "output_type": "stream",
     "text": [
      "[('the', 1), ('and', 2), ('a', 3), ('of', 4), ('to', 5), ('is', 6), ('in', 7), ('it', 8), ('i', 9), ('this', 10)]\n"
     ]
    }
   ],
   "source": [
    "# create word to integer (tokens) dictionary in order to encode text as numbers\n",
    "vocab_to_token = {word:idx+1 for idx, (word, count) in enumerate(sorted_review_words)}\n",
    "print(list(vocab_to_token.items())[:10])"
   ]
  },
  {
   "cell_type": "code",
   "execution_count": 5,
   "metadata": {},
   "outputs": [
    {
     "name": "stdout",
     "output_type": "stream",
     "text": [
      "for a movie that gets no respect there sure are a lot of memorable quotes listed for this gem imagine a movie where joe piscopo is actually funny maureen stapleton is a scene stealer the moroni character is an absolute scream watch for alan the skipper hale jr as a police sgt\n",
      "\n",
      "[15, 3, 17, 11, 201, 56, 1165, 47, 242, 23, 3, 168, 4, 891, 4325, 3513, 15, 10, 1514, 822, 3, 17, 112, 884, 14623, 6, 155, 161, 7307, 15816, 6, 3, 134, 20049, 1, 32064, 108, 6, 33, 1492, 1943, 103, 15, 1550, 1, 18993, 9055, 1809, 14, 3, 549, 6906]\n"
     ]
    }
   ],
   "source": [
    "review_tokenized = []\n",
    "for review in review_list:\n",
    "    review_tokenized.append([vocab_to_token[word] for word in review.split() if word in vocab_to_token])\n",
    "print(review_list[0])\n",
    "print()\n",
    "print(review_tokenized[0])\n"
   ]
  },
  {
   "cell_type": "code",
   "execution_count": 6,
   "metadata": {},
   "outputs": [],
   "source": [
    "# encode setiments as 0 and 1\n",
    "encoded_label_list = [1 if label == 'pos' else 0 for label in label_list]\n",
    "review_len = [len(review) for review in review_tokenized]\n",
    "\n",
    "review_tokenized = [review_tokenized[i] for i, l in enumerate(review_len) if l > 0]\n",
    "encoded_label_list = np.array([encoded_label_list[i] for i, l in enumerate(review_len)], dtype=np.float32)"
   ]
  },
  {
   "cell_type": "code",
   "execution_count": 7,
   "metadata": {},
   "outputs": [
    {
     "data": {
      "image/png": "[encoded data removed]",
      "text/plain": [
       "<Figure size 640x480 with 1 Axes>"
      ]
     },
     "metadata": {},
     "output_type": "display_data"
    }
   ],
   "source": [
    "def pad_sequence(review_tokenized, sequence_length):\n",
    "    \"\"\"\n",
    "        returns the tokenized review sequences padded with 0's\n",
    "        or truncated to the sequence_lenght\n",
    "    \"\"\"\n",
    "    padded_reviews = np.zeros((len(review_tokenized), sequence_length), dtype=np.int64)\n",
    "    for idx, review in enumerate(review_tokenized):\n",
    "        review_len = len(review)\n",
    "\n",
    "        if review_len <= sequence_length:\n",
    "            zeroes = list(np.zeros(sequence_length - review_len))\n",
    "            new_sequence = zeroes+review\n",
    "        elif review_len > sequence_length:\n",
    "            new_sequence = review[0:sequence_length]\n",
    "\n",
    "        padded_reviews[idx, :] = new_sequence\n",
    "\n",
    "    return padded_reviews\n",
    "\n",
    "sequence_length = 512\n",
    "padded_reviews = pad_sequence(review_tokenized, sequence_length)\n",
    "plt.hist(review_len);"
   ]
  },
  {
   "cell_type": "code",
   "execution_count": 8,
   "metadata": {},
   "outputs": [],
   "source": [
    "train_val_split = 0.75\n",
    "train_X = padded_reviews[:int(train_val_split*len(padded_reviews))]\n",
    "train_y = encoded_label_list[:int(train_val_split*len(padded_reviews))]\n",
    "validation_X = padded_reviews[int(train_val_split*len(padded_reviews)):]\n",
    "validation_y = encoded_label_list[int(train_val_split*len(padded_reviews)):]"
   ]
  },
  {
   "cell_type": "code",
   "execution_count": 9,
   "metadata": {},
   "outputs": [],
   "source": [
    "# generate torch datasets\n",
    "train_dataset = TensorDataset(torch.from_numpy(train_X).to(device), torch.from_numpy(train_y).to(device))\n",
    "validation_dataset = TensorDataset(torch.from_numpy(validation_X).to(device), torch.from_numpy(validation_y).to(device))\n",
    "\n",
    "\n",
    "batch_size = 32\n",
    "# torch dataloaders (shuffle data)\n",
    "train_dataloader = DataLoader(train_dataset, batch_size=batch_size, shuffle=True)\n",
    "validation_dataloader = DataLoader(validation_dataset, batch_size=batch_size, shuffle=True)"
   ]
  },
  {
   "cell_type": "code",
   "execution_count": 10,
   "metadata": {},
   "outputs": [
    {
     "name": "stdout",
     "output_type": "stream",
     "text": [
      "Example Input size:  torch.Size([32, 512])\n",
      "Example Input:\n",
      " tensor([[   0,    0,    0,  ...,   80,   15, 4116],\n",
      "        [   0,    0,    0,  ...,   20,   10,   28],\n",
      "        [   0,    0,    0,  ...,   44,   22,   68],\n",
      "        ...,\n",
      "        [   0,    0,    0,  ...,    2,   37, 2632],\n",
      "        [   0,    0,    0,  ...,   35, 1033,  476],\n",
      "        [   0,    0,    0,  ..., 1493,    5,   81]])\n",
      "\n",
      "Example Output size:  torch.Size([32])\n",
      "Example Output:\n",
      " tensor([1., 0., 1., 1., 0., 1., 1., 1., 1., 1., 1., 1., 0., 1., 0., 1., 1., 0.,\n",
      "        1., 1., 1., 0., 0., 1., 1., 1., 1., 1., 0., 1., 0., 1.])\n"
     ]
    }
   ],
   "source": [
    "# get a batch of train data\n",
    "train_data_iter = iter(train_dataloader)\n",
    "X_example, y_example = next(train_data_iter)\n",
    "print('Example Input size: ', X_example.size()) # batch_size, seq_length\n",
    "print('Example Input:\\n', X_example)\n",
    "print()\n",
    "print('Example Output size: ', y_example.size()) # batch_size\n",
    "print('Example Output:\\n', y_example)"
   ]
  },
  {
   "cell_type": "code",
   "execution_count": 12,
   "metadata": {},
   "outputs": [],
   "source": [
    "class RNN(nn.Module):\n",
    "    def __init__(self, input_dimension, embedding_dimension, hidden_dimension, output_dimension):\n",
    "        super().__init__()\n",
    "        self.embedding_layer = nn.Embedding(input_dimension, embedding_dimension)  \n",
    "        self.rnn_layer = nn.RNN(embedding_dimension, hidden_dimension, num_layers=1)\n",
    "        self.fc_layer = nn.Linear(hidden_dimension, output_dimension)\n",
    "        \n",
    "    def forward(self, sequence):\n",
    "        # sequence shape = (sequence_length, batch_size)\n",
    "        embedding = self.embedding_layer(sequence)  \n",
    "        # embedding shape = [sequence_length, batch_size, embedding_dimension]\n",
    "        output, hidden_state = self.rnn_layer(embedding)\n",
    "        # output shape = [sequence_length, batch_size, hidden_dimension]\n",
    "        # hidden_state shape = [1, batch_size, hidden_dimension]\n",
    "        final_output = self.fc_layer(hidden_state[-1,:,:].squeeze(0))      \n",
    "        return final_output\n",
    "    \n",
    "input_dimension = len(vocab_to_token)+1 # +1 to account for padding\n",
    "embedding_dimension = 100\n",
    "hidden_dimension = 32\n",
    "output_dimension = 1\n",
    "\n",
    "rnn_model = RNN(input_dimension, embedding_dimension, hidden_dimension, output_dimension)\n",
    "\n",
    "optim = torch.optim.Adam(rnn_model.parameters())\n",
    "loss_func = nn.BCEWithLogitsLoss() # a numerically stable computation of a sigmoid function, followed by a binary cross-entropy\n",
    "\n",
    "rnn_model = rnn_model.to(device)\n",
    "loss_func = loss_func.to(device)"
   ]
  },
  {
   "cell_type": "code",
   "execution_count": 14,
   "metadata": {},
   "outputs": [],
   "source": [
    "def accuracy_metric(predictions, ground_truth):\n",
    "    \"\"\"\n",
    "        Returns 0 or 1 for the given set of predictions and ground truth\n",
    "    \"\"\"\n",
    "    rounded_predictions = torch.round(torch.sigmoid(predictions))\n",
    "    success = (rounded_predictions == ground_truth).float()\n",
    "    acc = success.sum()/len(success)\n",
    "    return acc"
   ]
  },
  {
   "cell_type": "code",
   "execution_count": 15,
   "metadata": {},
   "outputs": [],
   "source": [
    "def train(model, dataloader, optim, loss_func):\n",
    "    loss = 0\n",
    "    accuracy = 0\n",
    "    model.train()\n",
    "    for sequence, sentiment in dataloader:\n",
    "        optim.zero_grad()\n",
    "        preds = model(sequence.T).squeeze(1)\n",
    "        \n",
    "        loss_curr = loss_func(preds, sentiment)\n",
    "        accuracy_curr = accuracy_metric(preds, sentiment)\n",
    "        \n",
    "        loss_curr.backward()\n",
    "        optim.step()\n",
    "\n",
    "        loss += loss_curr.item()\n",
    "        accuracy += accuracy_curr.item()\n",
    "\n",
    "    return loss/len(dataloader), accuracy/len(dataloader)"
   ]
  },
  {
   "cell_type": "code",
   "execution_count": 16,
   "metadata": {},
   "outputs": [],
   "source": [
    "def validate(model, dataloader, loss_func):\n",
    "    loss = 0\n",
    "    accuracy = 0\n",
    "    model.eval()\n",
    "    with torch.no_grad():\n",
    "        for sequence, sentiment in dataloader:\n",
    "            preds = model(sequence.T).squeeze(1)\n",
    "            \n",
    "            loss_curr = loss_func(preds, sentiment)\n",
    "            accuracy_curr = accuracy_metric(preds, sentiment)\n",
    "\n",
    "            loss += loss_curr.item()\n",
    "            accuracy += accuracy_curr.item()\n",
    "\n",
    "    return loss/len(dataloader), accuracy/len(dataloader)"
   ]
  },
  {
   "cell_type": "code",
   "execution_count": 17,
   "metadata": {},
   "outputs": [
    {
     "name": "stdout",
     "output_type": "stream",
     "text": [
      "Epoch 1/5 | Time: 24.05s\n",
      "Train Loss: 0.6235 | Train Accuracy: 0.6663\n",
      "Validation Loss: 1.0162 | Validation Accuracy: 0.2065\n",
      "--------------------------------------------------\n",
      "Epoch 2/5 | Time: 23.51s\n",
      "Train Loss: 0.5302 | Train Accuracy: 0.7404\n",
      "Validation Loss: 0.8853 | Validation Accuracy: 0.4906\n",
      "--------------------------------------------------\n",
      "Epoch 3/5 | Time: 24.01s\n",
      "Train Loss: 0.4322 | Train Accuracy: 0.8086\n",
      "Validation Loss: 0.7966 | Validation Accuracy: 0.5952\n",
      "--------------------------------------------------\n",
      "Epoch 4/5 | Time: 24.28s\n",
      "Train Loss: 0.4049 | Train Accuracy: 0.8273\n",
      "Validation Loss: 0.9485 | Validation Accuracy: 0.5321\n",
      "--------------------------------------------------\n",
      "Epoch 5/5 | Time: 23.96s\n",
      "Train Loss: 0.3078 | Train Accuracy: 0.8770\n",
      "Validation Loss: 0.8093 | Validation Accuracy: 0.6418\n",
      "--------------------------------------------------\n"
     ]
    }
   ],
   "source": [
    "num_epoch = 5\n",
    "best_validation_score = float('inf')\n",
    "for ep in range(num_epoch):\n",
    "    time_start = time.time()\n",
    "    train_loss, train_accuracy = train(rnn_model, train_dataloader, optim, loss_func)\n",
    "    validation_loss, validation_accuracy = validate(rnn_model, validation_dataloader, loss_func)\n",
    "    time_end = time.time()\n",
    "    time_elapsed = time_end - time_start\n",
    "    if validation_loss < best_validation_score:\n",
    "        best_validation_score = validation_loss\n",
    "        torch.save(rnn_model.state_dict(), 'rnn_model.pt')\n",
    "    print(f'Epoch {ep+1}/{num_epoch} | Time: {time_elapsed:.2f}s')\n",
    "    print(f'Train Loss: {train_loss:.4f} | Train Accuracy: {train_accuracy:.4f}')\n",
    "    print(f'Validation Loss: {validation_loss:.4f} | Validation Accuracy: {validation_accuracy:.4f}')\n",
    "    print('-'*50)"
   ]
  },
  {
   "cell_type": "code",
   "execution_count": 18,
   "metadata": {},
   "outputs": [],
   "source": [
    "def sentiment_inference(model, sentence):\n",
    "    model.eval()\n",
    "\n",
    "    # text transformation\n",
    "    sentence = sentence.lower()\n",
    "    sentence = ''.join([c for c in sentence if c not in punctuation])\n",
    "    tokenized = [vocab_to_token.get(token, 0) for token in sentence.split()]\n",
    "    tokenized = np.pad(tokenized, (512-len(tokenized), 0), 'constant')\n",
    "\n",
    "    # model inference\n",
    "    model_input = torch.LongTensor(tokenized).to(device)\n",
    "    model_input = model_input.unsqueeze(1)\n",
    "    pred = torch.sigmoid(model(model_input))\n",
    "\n",
    "    return pred.item()"
   ]
  },
  {
   "cell_type": "code",
   "execution_count": 29,
   "metadata": {},
   "outputs": [
    {
     "name": "stdout",
     "output_type": "stream",
     "text": [
      "0.42833492159843445\n",
      "0.24501614272594452\n",
      "0.9373890161514282\n",
      "0.9171954393386841\n",
      "0.9674911499023438\n",
      "0.8580657839775085\n"
     ]
    }
   ],
   "source": [
    "print(sentiment_inference(rnn_model, \"This film is horrible\"))\n",
    "print(sentiment_inference(rnn_model, \"Director tried too hard but this film is bad\"))\n",
    "print(sentiment_inference(rnn_model, \"This film will be houseful for weeks\"))\n",
    "print(sentiment_inference(rnn_model, \"I just really loved the movie\"))\n",
    "print(sentiment_inference(rnn_model, \"are you kidding me?\")) #!!\n",
    "print(sentiment_inference(rnn_model, \"Do Not Watch This Movie\")) #!! # so the model is still too basic"
   ]
  },
  {
   "cell_type": "markdown",
   "metadata": {},
   "source": [
    "further improvement:\n",
    "- work on data processing and maybe skip the \"stop words\"\n",
    "- encoder-decoder model maybe?\n",
    "- maybe using Bidirectional LSTMs rather than unidirectional one? --> [here](./bidirectional_lstm.ipynb)\n",
    "- maybe text processing and feature extraction through CNNs and then use RNNs for convergence?"
   ]
  }
 ],
 "metadata": {
  "kernelspec": {
   "display_name": "venv",
   "language": "python",
   "name": "python3"
  },
  "language_info": {
   "codemirror_mode": {
    "name": "ipython",
    "version": 3
   },
   "file_extension": ".py",
   "mimetype": "text/x-python",
   "name": "python",
   "nbconvert_exporter": "python",
   "pygments_lexer": "ipython3",
   "version": "3.13.0"
  }
 },
 "nbformat": 4,
 "nbformat_minor": 2
}
