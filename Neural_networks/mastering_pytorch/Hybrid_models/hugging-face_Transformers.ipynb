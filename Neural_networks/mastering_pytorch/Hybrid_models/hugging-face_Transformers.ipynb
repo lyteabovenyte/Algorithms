{
 "cells": [
  {
   "cell_type": "markdown",
   "id": "3791b50f",
   "metadata": {},
   "source": [
    "#### Using Hugging-Face Transformers library"
   ]
  },
  {
   "cell_type": "code",
   "execution_count": null,
   "id": "cac6b9fc",
   "metadata": {},
   "outputs": [],
   "source": [
    "import torch\n",
    "from transformers import BertForMaskedLM, BertTokenizer\n",
    " \n",
    "bert_model = BertForMaskedLM.from_pretrained('bert-base-uncased')\n",
    "token_gen = BertTokenizer.from_pretrained('bert-base-uncased')\n",
    "\n",
    "ip_sequence = token_gen(\"I love PyTorch !\", return_tensors=\"pt\")[\"input_ids\"]\n",
    "\n",
    "op = bert_model(ip_sequence, labels=ip_sequence)\n",
    "total_loss, raw_preds = op[:2]"
   ]
  }
 ],
 "metadata": {
  "kernelspec": {
   "display_name": "venv",
   "language": "python",
   "name": "python3"
  },
  "language_info": {
   "codemirror_mode": {
    "name": "ipython",
    "version": 3
   },
   "file_extension": ".py",
   "mimetype": "text/x-python",
   "name": "python",
   "nbconvert_exporter": "python",
   "pygments_lexer": "ipython3",
   "version": "3.13.0"
  }
 },
 "nbformat": 4,
 "nbformat_minor": 5
}
