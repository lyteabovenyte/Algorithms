{
  "cells": [
    {
      "cell_type": "markdown",
      "id": "9257497c-1e57-4935-9337-0e3c1c4fbcbf",
      "metadata": {
        "id": "9257497c-1e57-4935-9337-0e3c1c4fbcbf"
      },
      "source": [
        "## Loss function"
      ]
    },
    {
      "cell_type": "markdown",
      "id": "7f24c7f8-74f6-409f-9ecd-15286c391d6b",
      "metadata": {
        "id": "7f24c7f8-74f6-409f-9ecd-15286c391d6b"
      },
      "source": [
        "so far we've described linear regression, shallow neural networks, and deep\n",
        "neural networks. Each represents a family of functions that map input to output, where\n",
        "the particular member of the family is determined by the model parameters $\\varphi$."
      ]
    },
    {
      "cell_type": "markdown",
      "id": "524a8073-bade-4c19-a353-14a6f1fcbf6c",
      "metadata": {
        "id": "524a8073-bade-4c19-a353-14a6f1fcbf6c"
      },
      "source": [
        "the *least squares loss* function is suitable for *univariate regression*\n",
        "problems for which the target is a real number $y \\in R$"
      ]
    },
    {
      "cell_type": "markdown",
      "id": "0c44ba58-e441-4a1a-8946-afdfcca7b27d",
      "metadata": {
        "id": "0c44ba58-e441-4a1a-8946-afdfcca7b27d"
      },
      "source": [
        "#### Maximum likelihood"
      ]
    },
    {
      "cell_type": "markdown",
      "id": "70199c17-8bc3-4379-8140-6c0e370ccbb4",
      "metadata": {
        "id": "70199c17-8bc3-4379-8140-6c0e370ccbb4"
      },
      "source": [
        "Note: The conditional probability $Pr(x |y)$ is the probability of variable $x$ taking a certain value,\n",
        "assuming we know the value of $y$."
      ]
    },
    {
      "cell_type": "markdown",
      "id": "f80c4853-9f61-4164-b833-1286a9d85b99",
      "metadata": {
        "id": "f80c4853-9f61-4164-b833-1286a9d85b99"
      },
      "source": [
        "Consider a model\n",
        "$f[x,\\varphi]$ with parameters $\\varphi$ that computes an output from input $x$. Until now, we have\n",
        "implied that the model directly computes a prediction $y$. We now shift perspective and\n",
        "consider the model as computing a *conditional probability* distribution $Pr(y|x)$ over\n",
        "possible outputs $y$ given input $x$. The loss encourages each training output $y_i$ to have\n",
        "a high probability under the distribution $Pr(y_i|x_i)$ computed from the corresponding\n",
        "input $x_i$"
      ]
    },
    {
      "cell_type": "markdown",
      "id": "b8314a01-5dd0-4aa8-8dba-7b5a4d6aeb88",
      "metadata": {
        "id": "b8314a01-5dd0-4aa8-8dba-7b5a4d6aeb88"
      },
      "source": [
        "the question is exactly how a model $f[x,\\varphi]$ can be adapted\n",
        "to compute a probability distribution??\n",
        "the answer is rather simple, first we define a parametric distribution $pr(y|\\theta)$ over the output domain $y$, then we use the network to compute one or more of the parmaeters $\\theta$ of this distribution.\n",
        "For example, suppose the prediction domain is the set of real numbers, so $y \\in R$.\n",
        "Here, we might choose the univariate normal distribution, which is defined on $R$. This\n",
        "distribution is defined by the mean $\\mu$ and variance $\\sigma^2$, so $\\varphi= {\\mu,\\sigma^2}$. The machine\n",
        "learning model might predict the mean $\\mu$, and the variance $\\sigma^2$ could be treated as an unknown constant"
      ]
    },
    {
      "cell_type": "markdown",
      "source": [
        "Understanding the Term “Univariate Normal Distribution”:\n",
        "The univariate normal distribution (or Gaussian distribution) is a probability distribution that describes a single continuous random variable. It is characterized by two parameters:\n",
        "- Mean ($\\mu$): The center of the distribution, representing the expected value.\n",
        "- Variance ($\\sigma^2$): A measure of how spread out the values are around the mean.\n",
        "Mathematically, a univariate normal distribution is expressed as:\n",
        "$$p(y | \\mu, \\sigma^2) = \\frac{1}{\\sqrt{2\\pi \\sigma^2}} \\exp\\left(-\\frac{(y - \\mu)^2}{2\\sigma^2} \\right)$$\n",
        "where $y$ is the variable we are modeling.\n",
        "All in one place; Instead of making a single deterministic prediction (e.g., predicting one value for $y$), the model learns a probability distribution over possible values of $y$. This means that for a given input $x$, the model outputs the parameters $(\\mu, \\sigma^2)$, which define a normal distribution $\\mathcal{N}(\\mu, \\sigma^2)$. so This allows **uncertainty modeling**: the model can express confidence in its predictions by varying $\\sigma^2$. If $\\sigma^2$ is small, predictions are confident (values are concentrated around $\\mu$), whereas a larger $\\sigma^2$ indicates more uncertainty."
      ],
      "metadata": {
        "id": "TJYTLjnQIpJU"
      },
      "id": "TJYTLjnQIpJU"
    },
    {
      "cell_type": "markdown",
      "source": [
        "so from now, we know that The model does not directly output a single value for $y$; instead, it predicts the parameters of a normal distribution.$(\\mu, \\sigma)$"
      ],
      "metadata": {
        "id": "VgrDBJGcL4U5"
      },
      "id": "VgrDBJGcL4U5"
    },
    {
      "cell_type": "markdown",
      "source": [
        "##### Maximum likelihood criterion:\n",
        "The model now computes different distribution parameters $\\theta_i = f[x_i,\\varphi]$ for each training\n",
        "input $x_i$. Each observed training output $y_i$ should have high probability under its\n",
        "corresponding distribution $Pr(y_i|\\varphi_i)$. Hence, we choose the model parameters $\\varphi$ so that\n",
        "they maximize the combined probability across all $I$ training examples:\n",
        "$$\n",
        "\\hat{\\phi} = argmax_{\\phi} \\left[ \\prod_{i=1}^{I} Pr(y_i | \\mathbf{x}_i) \\right]\n",
        "$$\n",
        "\n",
        "$$\n",
        "= argmax_{\\phi} \\left[ \\prod_{i=1}^{I} Pr(y_i | \\theta_i) \\right]\n",
        "$$\n",
        "\n",
        "$$= argmax_{\\phi} \\left[ \\prod_{i=1}^{I}Pr(y_i | f(x_i, \\phi)) \\right]$$"
      ],
      "metadata": {
        "id": "VLOpgfQHNSTj"
      },
      "id": "VLOpgfQHNSTj"
    },
    {
      "cell_type": "markdown",
      "source": [
        "The combined probability term is the likelihood of the parameters, and hence\n",
        "is known as the *maximum likelihood criterion*"
      ],
      "metadata": {
        "id": "KpcHWhswryck"
      },
      "id": "KpcHWhswryck"
    },
    {
      "cell_type": "markdown",
      "source": [
        "Note: A conditional probability $Pr(z|\\psi)$ can be considered in two ways. As a function of $z$, it is a\n",
        "probability distribution that sums to one. As a function of $\\psi$, it is known as a likelihood and does not generally sum to one."
      ],
      "metadata": {
        "id": "7gdrcCchspiU"
      },
      "id": "7gdrcCchspiU"
    },
    {
      "cell_type": "markdown",
      "source": [
        "#### research about the **log transform**."
      ],
      "metadata": {
        "id": "8WiJ4rArtL3z"
      },
      "id": "8WiJ4rArtL3z"
    },
    {
      "cell_type": "markdown",
      "source": [
        "log transform the equation above:\n",
        "$$\n",
        "\\hat{\\phi} = argmax_{\\phi} \\left[ \\prod_{i=1}^{I} Pr(y_i | f(\\mathbf{x}_i, \\phi)) \\right]\n",
        "$$\n",
        "\n",
        "$$\n",
        "= argmax_{\\phi} \\left[ \\log \\left( \\prod_{i=1}^{I} Pr(y_i | f(\\mathbf{x}_i, \\phi)) \\right) \\right]\n",
        "$$\n",
        "\n",
        "$$\n",
        "= argmax_{\\phi} \\left[ \\sum_{i=1}^{I} \\log Pr(y_i | f(\\mathbf{x}_i, \\phi)) \\right].\n",
        "$$"
      ],
      "metadata": {
        "id": "FFyD9qwXt9PW"
      },
      "id": "FFyD9qwXt9PW"
    },
    {
      "cell_type": "markdown",
      "source": [
        "example for using log likelihood over likelihood:\n",
        "Suppose we have $X = \\{x_1, x_2, …, x_n\\}$ drawn from a normal distribution $\\mathcal{N}(\\mu, \\sigma^2)$, meaning:\n",
        "$$p(x_i | \\mu, \\sigma) = \\frac{1}{\\sqrt{2\\pi\\sigma^2}} \\exp\\left( -\\frac{(x_i - \\mu)^2}{2\\sigma^2} \\right)$$\n",
        "so, Likelihood Function:\n",
        "$$L(\\mu, \\sigma) = \\prod_{i=1}^{n} \\frac{1}{\\sqrt{2\\pi\\sigma^2}} \\exp\\left( -\\frac{(x_i - \\mu)^2}{2\\sigma^2} \\right)$$\n",
        "and log likelihood function:\n",
        "$$\\ell(\\mu, \\sigma) = \\sum_{i=1}^{n} \\left[ -\\frac{1}{2} \\log(2\\pi\\sigma^2) - \\frac{(x_i - \\mu)^2}{2\\sigma^2} \\right]$$"
      ],
      "metadata": {
        "id": "p9wQpNaGueuQ"
      },
      "id": "p9wQpNaGueuQ"
    },
    {
      "cell_type": "markdown",
      "source": [
        "colclusion:\n",
        "- The likelihood criterion uses $L(\\theta)$, which is the probability of data given the model parameters.\n",
        "- The log-likelihood criterion uses $\\ell(\\theta)$, which is the logarithm of the likelihood function, making it easier to compute and optimize.\n",
        "- Since log is a monotonic function, maximizing the likelihood is equivalent to maximizing the log-likelihood, but the latter is computationally and numerically superior."
      ],
      "metadata": {
        "id": "rmycOLRSwFHL"
      },
      "id": "rmycOLRSwFHL"
    },
    {
      "cell_type": "markdown",
      "source": [
        "so to have a loss function, we need a minimization problem, so we multiply the equation above which give us negative log likelihood:\n",
        "$$\n",
        "\\hat{\\phi} = argmin_{\\phi} \\left[ -\\sum_{i=1}^{I} \\log \\left[ Pr(y_i | \\mathbf{f}(\\mathbf{x}_i, \\phi)) \\right] \\right]\n",
        "$$\n",
        "\n",
        "\n",
        "$$\n",
        "= argmin_{\\phi} \\left[ L[\\phi] \\right],\n",
        "$$\n",
        "which is what forms the final loss function $L[\\varphi]$."
      ],
      "metadata": {
        "id": "j-AMY2uBwU2o"
      },
      "id": "j-AMY2uBwU2o"
    },
    {
      "cell_type": "markdown",
      "source": [
        "so for inference The network no longer directly predicts the outputs $y$ but instead determines a probability distribution over $y$. but\n",
        "When we perform inference, we often want a point estimate\n",
        "rather than a distribution, so we return the maximum of the distribution:\n",
        "\n",
        "\n",
        "$$\\hat{y} = argmax_{y} \\left[ Pr(y | f[x, \\hat{\\phi}]) \\right].$$"
      ],
      "metadata": {
        "id": "t3xSNYmmxGoV"
      },
      "id": "t3xSNYmmxGoV"
    },
    {
      "cell_type": "markdown",
      "source": [
        "Choose a suitable probability distribution $(Pr(y|\\theta)$ defined over the domain of the predictions $(y)$ with distribution parameters $(\\theta)$. The optimal prediction $(\\hat{y})$ is then given by:\n",
        "\n",
        "$$\\hat{y} = \\arg\\max_{y} \\left[ Pr(y | f[x, \\phi]) \\right].$$\n"
      ],
      "metadata": {
        "id": "FJoRwnt1yn6P"
      },
      "id": "FJoRwnt1yn6P"
    },
    {
      "cell_type": "markdown",
      "source": [
        "#### Recipe for constructing loss functions:\n",
        "- Choose a suitable probability distribution $Pr(y|\\theta)$ defined over the *domain* of the\n",
        "predictions $y$ (this *domain* is listed in next markdown) with distribution parameters $\\theta$.\n",
        "- Set the machine learning model $f[x,\\varphi]$ to predict one or more of these parameters,\n",
        "so $\\theta= f[x,\\varphi]$ and $Pr(y|\\theta) = Pr(y|f[x,\\varphi])$.\n",
        "- To train the model, find the network parameters\n",
        "$\\hat\\varphi$ that minimize the negative\n",
        "log-likelihood loss function over the training dataset pairs $\\{xi,yi\\}$\n",
        "\n",
        "$$\\hat{\\phi} = \\arg\\min_{\\phi} \\left[ L[\\phi] \\right] = \\arg\\min_{\\phi} \\left[ -\\sum_{i=1}^{I} \\log \\left[ Pr(y_i | f[x_i, \\phi]) \\right] \\right].$$\n",
        "\n",
        "- To perform inference for a new test example x, return either the full distribution $Pr(y|f[x,\\hat\\varphi])$ or the value where this distribution is maximized."
      ],
      "metadata": {
        "id": "TEHaYfg5-2ZV"
      },
      "id": "TEHaYfg5-2ZV"
    },
    {
      "cell_type": "markdown",
      "source": [
        "**Gaussian distribution**:\n",
        "The univariate normal distribution (also known as the Gaussian distribution) is defined on the real line $z \\in\n",
        "R$ and has parameters $\\mu$ and $\\sigma^2$. The\n",
        "mean $\\mu$ determines the position of the\n",
        "peak. The positive root of the variance $\\sigma^2$ (the standard deviation) determines the width of the distribution.\n",
        "Since the total probability density sums\n",
        "to one, the peak becomes higher as the\n",
        "variance decreases and the distribution\n",
        "becomes narrower."
      ],
      "metadata": {
        "id": "WJXFyKZh_UsE"
      },
      "id": "WJXFyKZh_UsE"
    },
    {
      "cell_type": "markdown",
      "source": [
        "negative log likelihood for gaussian distribution:\n",
        "$$\n",
        "\\begin{align*}\n",
        "\\hat{\\phi} &= \\arg\\min_{\\phi} \\left[ -\\sum_{i=1}^{I} \\log \\left[ \\frac{1}{\\sqrt{2\\pi\\sigma^2}} \\exp \\left[ -\\frac{(y_i - f[x_i, \\phi])^2}{2\\sigma^2} \\right] \\right] \\right] \\\\\n",
        "&= \\arg\\min_{\\phi} \\left[ -\\sum_{i=1}^{I} \\left( \\log \\left[ \\frac{1}{\\sqrt{2\\pi\\sigma^2}} \\right] - \\frac{(y_i - f[x_i, \\phi])^2}{2\\sigma^2} \\right) \\right] \\\\\n",
        "&= \\arg\\min_{\\phi} \\left[ -\\sum_{i=1}^{I} \\left( -\\frac{(y_i - f[x_i, \\phi])^2}{2\\sigma^2} \\right) \\right] \\\\\n",
        "&= \\arg\\min_{\\phi} \\left[ \\sum_{i=1}^{I} (y_i - f[x_i, \\phi])^2 \\right],\n",
        "\\end{align*}\n",
        "$$\n",
        "\n",
        "The result of these manipulations is the **least squares loss function**, We see that the least squares loss function follows naturally from the assumptions that the\n",
        "predictions are ($i$) independent and ($ii$) drawn from a normal distribution with mean $\\mu=\n",
        "f[x_i,\\varphi]$"
      ],
      "metadata": {
        "id": "qWjQzj-xAyHp"
      },
      "id": "qWjQzj-xAyHp"
    },
    {
      "cell_type": "markdown",
      "source": [
        "with keeping varinace $\\sigma^2$ into consideration we get:\n",
        "$$\\hat{\\phi}, \\hat{\\sigma}^2 = \\arg\\min_{\\phi, \\sigma^2} \\left[ -\\sum_{i=1}^I \\log \\left[ \\frac{1}{\\sqrt{2\\pi\\sigma^2}} \\exp \\left[ -\\frac{(y_i - f[x_i, \\phi])^2}{2\\sigma^2} \\right] \\right] \\right]$$\n",
        "\n",
        "In inference, the model predicts the mean $\\mu= f[x,\n",
        "\\phi]$ from the input, and we learned the\n",
        "variance\n",
        "$\\hat\\sigma^2$ during the training process. The former is the best prediction. The latter\n",
        "tells us about the uncertainty of the prediction."
      ],
      "metadata": {
        "id": "_Ku4p2efB8mL"
      },
      "id": "_Ku4p2efB8mL"
    },
    {
      "cell_type": "markdown",
      "source": [
        "so we can treat the variance as the uncertainty of our prediction? and it's a parameter which should be learnt?"
      ],
      "metadata": {
        "id": "T5y0A83IKFPT"
      },
      "id": "T5y0A83IKFPT"
    },
    {
      "cell_type": "markdown",
      "source": [
        "Terminology: In statistics, a sequence of random variables is **homoscedastic** if all its random variables have the same finite variance; this is also known as homogeneity of variance. The complementary notion is called heteroscedasticity, also known as heterogeneity of variance."
      ],
      "metadata": {
        "id": "5GQtMHdNKNby"
      },
      "id": "5GQtMHdNKNby"
    },
    {
      "cell_type": "markdown",
      "source": [
        "The model above assumes that the variance of the data is constant everywhere. However,\n",
        "this might be unrealistic. When the uncertainty of the model varies as a function of the\n",
        "input data, we refer to this as heteroscedastic (as opposed to homoscedastic, where the\n",
        "uncertainty is constant).\n",
        "A simple way to model this is to train a neural network $f[x,\\phi]$ that computes both\n",
        "the mean and the variance. For example, **consider a shallow network with two outputs**.\n",
        "We denote the first output as $f1[x,\\phi]$ and use this to predict the mean, and we denote\n",
        "the second output as $f2[x,\\phi]$ and use it to predict the variance.\n",
        "There is one complication; the variance must be positive, but we can’t guarantee\n",
        "that the network will always produce a positive output. To ensure that the computed\n",
        "variance is positive, we pass the second network output through a function that maps\n",
        "an arbitrary value to a positive one. A suitable choice is the squaring function, giving:\n",
        "$$\\mu = f_1[x, \\phi]$$\n",
        "$$\\sigma^2 = f_2[x, \\phi]^2$$\n",
        "\n",
        "is\n",
        "$$\\hat{\\phi} = \\arg\\min_{\\phi} \\left[ -\\sum_{i=1}^I \\log \\left[ \\frac{1}{\\sqrt{2\\pi f_2[x_i, \\phi]^2}} \\exp \\left( -\\frac{(y_i - f_1[x_i, \\phi])^2}{2 f_2[x_i, \\phi]^2} \\right) \\right] \\right]$$"
      ],
      "metadata": {
        "id": "W4SkcjltKtYY"
      },
      "id": "W4SkcjltKtYY"
    },
    {
      "cell_type": "markdown",
      "source": [
        "# Binary classification"
      ],
      "metadata": {
        "id": "Je37m_rzMc_1"
      },
      "id": "Je37m_rzMc_1"
    },
    {
      "cell_type": "markdown",
      "source": [
        "*Bernoulli distribution*: The\n",
        "Bernoulli distribution is defined on the\n",
        "domain $z \\in \\{0,1\\}$and has a single pa-\n",
        "rameter $\\lambda$ that denotes the probability\n",
        "of observing $z = 1$. It follows that the\n",
        "probability of observing $z = 0$ is $1−\\lambda$."
      ],
      "metadata": {
        "id": "NnSIRSIGMiDT"
      },
      "id": "NnSIRSIGMiDT"
    },
    {
      "cell_type": "code",
      "source": [
        "import numpy as np\n",
        "import matplotlib.pyplot as plt\n",
        "from scipy.stats import bernoulli\n",
        "\n",
        "# Parameters\n",
        "p = 0.3  # Probability of success (you can change this value between 0 and 1)\n",
        "\n",
        "# Possible outcomes for Bernoulli (0 or 1)\n",
        "x = np.array([0, 1])\n",
        "\n",
        "# Calculate the PMF (Probability Mass Function) for the Bernoulli distribution\n",
        "pmf = bernoulli.pmf(x, p)\n",
        "\n",
        "# Create a bar plot\n",
        "plt.figure(figsize=(8, 6))\n",
        "plt.bar(x, pmf, width=0.4, color='skyblue', edgecolor='black', alpha=0.7)\n",
        "\n",
        "# Add labels and title\n",
        "plt.title(f'Bernoulli Distribution (p = {p})', fontsize=14)\n",
        "plt.xlabel('Outcome', fontsize=12)\n",
        "plt.ylabel('Probability', fontsize=12)\n",
        "plt.xticks(x, ['0 (Failure)', '1 (Success)'])\n",
        "plt.ylim(0, 1)  # Set y-axis limit to [0, 1] for better visualization\n",
        "plt.grid(True, alpha=0.3)\n",
        "\n",
        "# Show the plot\n",
        "plt.show()"
      ],
      "metadata": {
        "colab": {
          "base_uri": "https://localhost:8080/",
          "height": 569
        },
        "id": "D1-1mEfuM6AJ",
        "outputId": "0629e4d2-1c21-48f6-9c57-1b0f344d27ff"
      },
      "id": "D1-1mEfuM6AJ",
      "execution_count": 1,
      "outputs": [
        {
          "output_type": "display_data",
          "data": {
            "text/plain": [
              "<Figure size 800x600 with 1 Axes>"
            ],
            "image/png": "[encoded data removed]"
          },
          "metadata": {}
        }
      ]
    },
    {
      "cell_type": "markdown",
      "source": [
        "*Logistic sigmoid function*.\n",
        "This function maps the real line $z \\in\n",
        "R$ to numbers between zero and one,\n",
        "so $sig[z] \\in [0,1]$. An input of 0 is mapped\n",
        "to 0.5. Negative inputs are mapped to\n",
        "numbers below 0.5, and positive inputs\n",
        "to numbers above 0.5."
      ],
      "metadata": {
        "id": "C5rAliARNr5F"
      },
      "id": "C5rAliARNr5F"
    },
    {
      "cell_type": "code",
      "source": [
        "# Define the sigmoid function\n",
        "def sigmoid(x):\n",
        "    return 1 / (1 + np.exp(-x))\n",
        "\n",
        "# Generate x values\n",
        "x = np.linspace(-10, 10, 400)  # Range from -10 to 10 with 400 points\n",
        "\n",
        "# Compute the sigmoid values\n",
        "y = sigmoid(x)\n",
        "\n",
        "# Create the plot\n",
        "plt.figure(figsize=(10, 6))\n",
        "plt.plot(x, y, label='Sigmoid Function', color='blue', linewidth=2)\n",
        "\n",
        "# Add horizontal line at y = 0.5 (inflection point)\n",
        "plt.axhline(y=0.5, color='gray', linestyle='--', alpha=0.5)\n",
        "\n",
        "# Add labels and title\n",
        "plt.title('Logistic Sigmoid Function', fontsize=14)\n",
        "plt.xlabel('x', fontsize=12)\n",
        "plt.ylabel('σ(x)', fontsize=12)\n",
        "plt.legend()\n",
        "plt.grid(True, alpha=0.3)\n",
        "\n",
        "# Set y-axis limits to [0, 1] since sigmoid outputs are in this range\n",
        "plt.ylim(0, 1)\n",
        "\n",
        "# Show the plot\n",
        "plt.show()"
      ],
      "metadata": {
        "colab": {
          "base_uri": "https://localhost:8080/",
          "height": 569
        },
        "id": "g3BbFwoFNHmX",
        "outputId": "be2080a9-27b7-4b12-892a-e6b4edec2ba9"
      },
      "id": "g3BbFwoFNHmX",
      "execution_count": 3,
      "outputs": [
        {
          "output_type": "display_data",
          "data": {
            "text/plain": [
              "<Figure size 1000x600 with 1 Axes>"
            ],
            "image/png": "[encoded data removed]"
          },
          "metadata": {}
        }
      ]
    },
    {
      "cell_type": "markdown",
      "source": [
        "Bernoulli distribution:\n",
        "\n",
        "$$\\text{Pr}(\\gamma|\\lambda) = (1 - \\lambda)^{1 - \\gamma} \\cdot \\lambda^{\\gamma} \\cdot$$"
      ],
      "metadata": {
        "id": "rRjtfVqdNbD_"
      },
      "id": "rRjtfVqdNbD_"
    },
    {
      "cell_type": "markdown",
      "source": [
        "we use e neuarl network to predict the $\\lambda$ for our Bernoulli dist. but to keep the predicted value between $[0, 1]$ we use logistic sigmoid as follows:\n",
        "$$\\text{Pr}(\\gamma|\\mathbf{x}) = (1 - \\text{sig}[f(\\mathbf{x}, \\phi)])^{1 - \\gamma} \\cdot \\text{sig}[f(\\mathbf{x}, \\phi)]^{\\gamma} \\cdot$$"
      ],
      "metadata": {
        "id": "bakEDjYORS6R"
      },
      "id": "bakEDjYORS6R"
    },
    {
      "cell_type": "markdown",
      "source": [
        "The loss function is\n",
        "the negative log-likelihood of the training set:\n",
        "\n",
        "$$L[\\phi] = \\sum_{i=1}^{I} - \\left( (1 - \\gamma_i) \\log[1 - \\text{sig}[f(\\mathbf{x}_i, \\phi)]] - \\gamma_i \\log[\\text{sig}[f(\\mathbf{x}_i, \\phi)]] \\right) \\cdot$$\n",
        "\n",
        "this is known as the binary **cross-entropy loss**."
      ],
      "metadata": {
        "id": "Uz1rYtIjRss5"
      },
      "id": "Uz1rYtIjRss5"
    },
    {
      "cell_type": "markdown",
      "source": [
        "*Categorical distribution*:\n",
        "The categorical distribution assigns probabil-\n",
        "ities to $K \\gt 2$ categories, with associated\n",
        "probabilities $\\lambda_1,\\lambda_2,...,\\lambda_k$ . Here, there\n",
        "are five categories, so $K = 5$. To ensure\n",
        "that this is a valid probability distribution, each parameter $\\lambda_k$ must lie in the\n",
        "range $[0,1]$, and all $K$ parameters must\n",
        "sum to one.\n",
        "$$Pr(y = k) = \\lambda_k$$"
      ],
      "metadata": {
        "id": "FaWDauAHSniA"
      },
      "id": "FaWDauAHSniA"
    },
    {
      "cell_type": "markdown",
      "source": [
        "for this multiclass distribution we use a network $f[x,\\phi]$ with $K$ outputs to compute these $K$ parameters from\n",
        "the input $x$. Unfortunately, the network outputs will not necessarily obey the aforementioned constraints. Consequently, we pass the $K$ outputs of the network through a\n",
        "function that ensures these constraints are respected. A suitable choice is the **softmax**\n",
        "function. This takes an arbitrary *vector* of length $K$ and returns a vector\n",
        "of the same length but where the elements are now in the range $[0,1]$ and sum to one.\n",
        "The $k_{th}$ output of the softmax function is:\n",
        "$$\n",
        "softmax_k[\\mathbf{z}] = \\frac{\\exp(z_k)}{\\sum_{k'=1}^K \\exp(z_{k'})}\n",
        "$$\n",
        "here:\n",
        "- The *numerator* $e^{z_i}$ ensures all values are positive.\n",
        "- The *denominator* $\\sum_{k'=1}^{K} e^{z_k'}$ ensures the outputs sum to 1, making it a valid probability distribution.\n",
        "- Softmax scales raw scores (*logits*) into probabilities."
      ],
      "metadata": {
        "id": "GG4UO8e2qbux"
      },
      "id": "GG4UO8e2qbux"
    },
    {
      "cell_type": "markdown",
      "source": [
        "##### The Issue of softmax: Overflow and Underflow:\n",
        "Since $e^z$ grows exponentially, large values can cause overflow, and small values can cause underflow.\n",
        "##### The Solution: Log-Trick\n",
        "$$\\sigma(z_i) = \\frac{e^{z_i - \\max(\\mathbf{z})}}{\\sum_{j=1}^{n} e^{z_j - \\max(\\mathbf{z})}}$$\n",
        "this insures that:\n",
        "- The largest exponent is always $e^0 = 1$, avoiding overflow.\n",
        "- The relative probabilities remain unchanged."
      ],
      "metadata": {
        "id": "4T56bV9urZPe"
      },
      "id": "4T56bV9urZPe"
    },
    {
      "cell_type": "markdown",
      "source": [
        "The loss function is the negative log-likelihood of the training data:\n",
        "$$\\\n",
        "\\begin{align*}\n",
        "L[\\phi] &= -\\sum_{i=1}^I \\log \\left[ softmax_{y_i} \\left[ \\mathbf{f}[\\mathbf{x}_i, \\phi] \\right] \\right] \\\\\n",
        "&= -\\sum_{i=1}^I \\left( f_{y_i} [\\mathbf{x}_i, \\phi] - \\log \\left[ \\sum_{k'=1}^K \\exp \\left[ f_{k'} [\\mathbf{x}_i, \\phi] \\right] \\right] \\right),\n",
        "\\end{align*}\n",
        "$$"
      ],
      "metadata": {
        "id": "SfIPl3W-uqfe"
      },
      "id": "SfIPl3W-uqfe"
    },
    {
      "cell_type": "markdown",
      "source": [],
      "metadata": {
        "id": "W3shiOuzvVIO"
      },
      "id": "W3shiOuzvVIO"
    }
  ],
  "metadata": {
    "kernelspec": {
      "display_name": "Python 3 (ipykernel)",
      "language": "python",
      "name": "python3"
    },
    "language_info": {
      "codemirror_mode": {
        "name": "ipython",
        "version": 3
      },
      "file_extension": ".py",
      "mimetype": "text/x-python",
      "name": "python",
      "nbconvert_exporter": "python",
      "pygments_lexer": "ipython3",
      "version": "3.13.0"
    },
    "colab": {
      "provenance": []
    }
  },
  "nbformat": 4,
  "nbformat_minor": 5
}