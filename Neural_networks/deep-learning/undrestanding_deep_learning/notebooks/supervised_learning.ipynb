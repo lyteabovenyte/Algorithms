{
 "cells": [
  {
   "cell_type": "markdown",
   "id": "c0675ffb-8f58-4dbf-9e8c-666c1481a5d1",
   "metadata": {},
   "source": [
    "#### supervised learning."
   ]
  },
  {
   "cell_type": "markdown",
   "id": "30f9ccdc-461d-401a-8fcb-54cce098de17",
   "metadata": {},
   "source": [
    "The model is just a mathematical equation; when the inputs are passed through this\n",
    "equation, it computes the output, and this is termed *inference*. The model equation also\n",
    "contains parameters. Different parameter values change the outcome of the computation; the model equation describes a family of possible relationships between inputs and\n",
    "outputs, and the parameters specify the particular relationship.\n",
    "When we train or learn a model, we find parameters that describe the true relationship\n",
    "between inputs and outputs. A learning algorithm takes a training set of input/output\n",
    "pairs and manipulates the parameters until the inputs predict their corresponding out-\n",
    "puts as closely as possible. If the model works well for these training pairs, then we hope\n",
    "it will make good predictions for new inputs where the true output is unknown."
   ]
  },
  {
   "cell_type": "markdown",
   "id": "ba01c903-9ced-4bab-94d9-5f6bdb1f3803",
   "metadata": {},
   "source": [
    "*structured or tabular data*: when we provide our model with the input data, if those input are assumed to be fixed-length size vectors, and that the elements of the vectors are always ordered in the same way, we claim that the input is structured or tabular."
   ]
  },
  {
   "cell_type": "markdown",
   "id": "9efdbe54-5d34-4605-a928-f227515b735a",
   "metadata": {},
   "source": []
  }
 ],
 "metadata": {
  "kernelspec": {
   "display_name": "Python 3 (ipykernel)",
   "language": "python",
   "name": "python3"
  },
  "language_info": {
   "codemirror_mode": {
    "name": "ipython",
    "version": 3
   },
   "file_extension": ".py",
   "mimetype": "text/x-python",
   "name": "python",
   "nbconvert_exporter": "python",
   "pygments_lexer": "ipython3",
   "version": "3.13.0"
  }
 },
 "nbformat": 4,
 "nbformat_minor": 5
}
