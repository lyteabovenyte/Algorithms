{
 "cells": [
  {
   "cell_type": "markdown",
   "id": "8cd318a6-d442-4591-af71-34aba4a44480",
   "metadata": {},
   "source": [
    "#### shallow neural networks.\n",
    "###### Amir Alaeifar"
   ]
  },
  {
   "cell_type": "markdown",
   "id": "ef9900f0-a752-496d-b7ef-a683b3302944",
   "metadata": {},
   "source": [
    "These neural networks describe piecewise linear functions and are expressive enough\n",
    "to approximate arbitrarily complex relationships between multi-dimensional inputs and\n",
    "outputs."
   ]
  },
  {
   "cell_type": "markdown",
   "id": "eb9f8deb-8416-4ef3-809a-4d7bc4a026a2",
   "metadata": {},
   "source": [
    "Shallow neural networks are functions $y= f[x,\\varphi]$ with parameters $\\varphi$ that map multivariate inputs $x$ to multivariate outputs $y$."
   ]
  },
  {
   "cell_type": "markdown",
   "id": "e16460e3-2924-4784-b3b2-4720ebfbcc40",
   "metadata": {},
   "source": [
    "the idea behind shallow neural networks and activation function:"
   ]
  },
  {
   "cell_type": "markdown",
   "id": "fe536198-235e-4e9b-90fc-7b3f087b0415",
   "metadata": {},
   "source": [
    "first lets examine the equation below:\n",
    "$$y = f[x, \\varphi]$$\n",
    "we introduce ten parameters as follows: $[\\varphi_0, \\varphi_1, \\varphi_2, \\varphi_3, \\theta_{10}, \\theta_{11}, \\theta_{20}, \\theta_{21}, \\theta_{30}, \\theta_{31}]$\n",
    "then We can break down this calculation into three parts: first, we compute three linear\n",
    "functions of the input data ($\\varphi_{10} + \\varphi_{11}x$, $\\varphi_{20} + \\varphi_{21}x$, and $\\varphi_{30} + \\varphi_{31}x$). Second, we pass the\n",
    "three results through an **activation function** $a[\\bullet]$. as follows:\n",
    "$$\\varphi_0 + a \\varphi_1[\\theta_{10} + \\theta{11}x] + a \\varphi_2[\\theta_{20} + \\theta{21}x] + a \\varphi_3[\\theta_{30} + \\theta{31}x] \\space\\space\\space\\space\\space\\space\\space\\space\\space eq2.1$$\n",
    "Finally, we weight the three resulting\n",
    "activations with ϕ1,ϕ2, and ϕ3, sum them, and add an offset ϕ0."
   ]
  },
  {
   "cell_type": "markdown",
   "id": "0778ebcb-a7f2-4e0a-b12f-d1f7c4aef68b",
   "metadata": {},
   "source": [
    "##### rectified linear unit or ReLU\n",
    "$$\n",
    "a[z] = \\text{ReLU}[z] =\n",
    "\\begin{cases} \n",
    "    0 & z < 0 \\\\\n",
    "    z & z \\geq 0\n",
    "\\end{cases}$$"
   ]
  },
  {
   "cell_type": "code",
   "execution_count": 7,
   "id": "e5aec570-cdb8-4616-81a1-a768c60a13e1",
   "metadata": {},
   "outputs": [
    {
     "data": {
      "image/png": "[encoded data removed]",
      "text/plain": [
       "<Figure size 600x400 with 1 Axes>"
      ]
     },
     "metadata": {},
     "output_type": "display_data"
    }
   ],
   "source": [
    "import numpy as np\n",
    "import matplotlib.pyplot as plt\n",
    "\n",
    "# Define ReLU function\n",
    "def relu(x):\n",
    "    return np.maximum(0, x)\n",
    "\n",
    "# Generate values for x\n",
    "x = np.linspace(-5, 5, 100)\n",
    "y = relu(x)\n",
    "\n",
    "# Plot\n",
    "plt.figure(figsize=(6, 4))\n",
    "plt.plot(x, y, label=\"ReLU(x)\", color='b')\n",
    "plt.axhline(0, color='black', linewidth=0.5)\n",
    "plt.axvline(0, color='black', linewidth=0.5)\n",
    "plt.grid(True, linestyle=\"--\", alpha=0.6)\n",
    "plt.xlabel(\"x\")\n",
    "plt.ylabel(\"ReLU(x)\")\n",
    "plt.title(\"ReLU Activation Function\")\n",
    "plt.legend()\n",
    "plt.show()"
   ]
  },
  {
   "cell_type": "markdown",
   "id": "9c2d57a9-58d3-4c61-9a80-62e88942bc4c",
   "metadata": {},
   "source": [
    "**activation function in details**:\n",
    "The activation function in hidden layers of a neural network introduces non-linearity into the model, allowing it to learn complex patterns and represent non-linear decision boundaries. Without activation functions, the entire network would behave like a linear transformation, no matter how many layers it has."
   ]
  },
  {
   "cell_type": "markdown",
   "id": "c8fd3ff4-c5f7-4df0-8e1d-647f1a54a34c",
   "metadata": {},
   "source": [
    "visualized version of the eq1.1 -an example neural network with one input, one\n",
    "output, ReLU activation functions, and three hidden units\n",
    "<img src=../images/shallow_nn.png height=350 width=350 style=\"display:block;margin:auto\">"
   ]
  },
  {
   "cell_type": "markdown",
   "id": "73b4cf31-ad37-42a8-a6c7-07577f1d37b8",
   "metadata": {},
   "source": [
    "so we can generalize the equation 1.1 to have $D$ hidden units and sum them up as:\n",
    "$$y = \\varphi_0 + \\sum_{d=1}^{D}\\varphi_{d}h_d \\space\\space\\space\\space\\space\\space\\space\\space\\space eq2.2$$\n",
    "which every $h$ (hidden layers) are defined as:\n",
    "$$h_d = a[\\theta_{d 0} + \\theta_{d 1}x]$$"
   ]
  },
  {
   "cell_type": "markdown",
   "id": "18d7c1db-8723-4fd4-971e-6c06e1fbcc21",
   "metadata": {},
   "source": [
    "The number of hidden units in a shallow network is a measure of the *network capacity*. With ReLU activation functions, the output of a network with $D$ hidden units has at most $D$ joints and so is a piecewise linear function with at most $D + 1$ linear regions."
   ]
  },
  {
   "cell_type": "markdown",
   "id": "f7f08b19-f67c-4349-802c-8a6c35e416ad",
   "metadata": {},
   "source": [
    "**universal approximation theorem** proves that for any continuous function, there exists a\n",
    "shallow network that can approximate this function to any specified precision, so As the number of regions increases, the model becomes closer and\n",
    "closer to the continuous function. A neural network with a scalar input creates\n",
    "one extra linear region per hidden unit. This idea generalizes to functions in\n",
    "$D_i$ dimensions. The universal approximation theorem proves that, with enough\n",
    "hidden units, there exists a shallow neural network that can describe any given\n",
    "continuous function defined on a compact subset of $\\R_{D_i}$ to arbitrary precision."
   ]
  },
  {
   "cell_type": "markdown",
   "id": "4520131f-3dd2-494f-ab4d-0025e8ee700a",
   "metadata": {},
   "source": [
    "#### Multivariate inputs and outputs"
   ]
  },
  {
   "cell_type": "markdown",
   "id": "3f683b61-5ba1-49b9-b99a-9ac80577ea2f",
   "metadata": {},
   "source": [
    "so with the same hidden layers, to have multivariant output (here two ouput as $y = [y_1, y_2]^T$), we simply use a different linear function of the hidden units for each output.\n",
    "$$y_1 = \\varphi_{10} + \\varphi_{11}h_1 + \\varphi_{12}h_2 + \\varphi_{13}h_3 + \\varphi_{14}h_4$$\n",
    "$$y_2 = \\varphi_{20} + \\varphi_{21}h_1 + \\varphi_{22}h_2 + \\varphi_{23}h_3 + \\varphi_{24}h_4$$"
   ]
  },
  {
   "cell_type": "markdown",
   "id": "a554f52f-dc16-4e05-a96b-fa8bba89e038",
   "metadata": {},
   "source": [
    "<img src=../images/multi_y_shallow_with_chart.png height=850 width=850 style=\"display:block;margin:auto\">"
   ]
  },
  {
   "cell_type": "markdown",
   "id": "bcd01946-f181-4fd4-96e0-dc50a3ba9ffd",
   "metadata": {},
   "source": [
    "To cope with multivariate inputs x, we extend the linear relations between the input\n",
    "and the hidden units. so we have hidden units as follows (with inputs as $x = [x_1, x_2]^T$):\n",
    "$$h_1 = a[\\theta_{10} + \\theta_{11}x_1 + \\theta_{12}x_2]$$\n",
    "$$h_2 = a[\\theta_{20} + \\theta_{21}x_1 + \\theta_{22}x_2]$$\n",
    "$$h_3 = a[\\theta_{30} + \\theta_{31}x_1 + \\theta_{32}x_2]$$"
   ]
  },
  {
   "cell_type": "markdown",
   "id": "b38dea60-a8ef-4170-8dd2-54baadd07335",
   "metadata": {},
   "source": [
    "and we define the output as:\n",
    "$$y = \\varphi_0 + \\varphi_1 h_1+\\varphi_2 h_2+\\varphi_3 h_3$$"
   ]
  },
  {
   "cell_type": "markdown",
   "id": "5ba393fb-b747-44d1-8449-0eaa30c6de7d",
   "metadata": {},
   "source": [
    "**intuition of the shallow neural networks**:\n",
    "Note that as the input dimensions grow, the number of linear regions increases rapidly\n",
    ".To get a feeling for how rapidly, consider that each hidden unit defines a\n",
    "hyperplane that delineates the part of space where this unit is active from the part where it is not. If we had the same number of hidden units as input dimensions $D_i$, we could align each hyperplane with one of the coordinate axes\n",
    ".For two input dimensions, this would divide the space into four quadrants.\n",
    "For three dimensions, this would create eight octants, and for $D_i$ dimensions, this would\n",
    "create $2^{D_i}$ orthants. Shallow neural networks usually have more hidden units than input\n",
    "dimensions, so they typically create more than $2^{D_i}$ linear regions."
   ]
  },
  {
   "cell_type": "markdown",
   "id": "a28531af-14eb-4db5-83d3-8c49c6ccb99e",
   "metadata": {},
   "source": [
    "We now define a general equation for a shallow neural network $y = f[x,\\varphi]$\n",
    "that maps a multi-dimensional input $x \\in \\R^{D_i}$ to a multi-dimensional output $y \\in \\R^{D_o}$\n",
    "using $h \\in \\R^D$ hidden units. Each hidden unit is computed as:\n",
    "$$h_d = a\\left[ \\theta_{d_0} + \\sum_{i=1}^{D_i} \\theta_{d_i}x_i \\right]$$"
   ]
  },
  {
   "cell_type": "markdown",
   "id": "0b937170-74e5-48bb-85f1-a33b7bfbff2f",
   "metadata": {},
   "source": [
    "and these are combined linearly to create the output:\n",
    "$$y_i = \\varphi_{j0} + \\sum_{d=1}^{D} \\varphi_{dj}h_d \\space\\space\\space\\space\\space\\space\\space\\space eq 2.3$$"
   ]
  }
 ],
 "metadata": {
  "kernelspec": {
   "display_name": "Python 3 (ipykernel)",
   "language": "python",
   "name": "python3"
  },
  "language_info": {
   "codemirror_mode": {
    "name": "ipython",
    "version": 3
   },
   "file_extension": ".py",
   "mimetype": "text/x-python",
   "name": "python",
   "nbconvert_exporter": "python",
   "pygments_lexer": "ipython3",
   "version": "3.13.0"
  }
 },
 "nbformat": 4,
 "nbformat_minor": 5
}
