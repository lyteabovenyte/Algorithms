{
 "cells": [
  {
   "cell_type": "markdown",
   "id": "71827089-c721-4307-a3f2-19064acc9b79",
   "metadata": {},
   "source": [
    "##### Appendix B. Mathematics"
   ]
  },
  {
   "cell_type": "markdown",
   "id": "849d3c36-ceec-4ef6-8b84-613e47a8be4b",
   "metadata": {},
   "source": [
    "An injection is a one-to-one function where every element in the first set maps to\n",
    "a unique position in the second set (but there may be elements of the second set that\n",
    "are not mapped to). A surjection is a function where every element in the second set\n",
    "receives a mapping from the first (but there may be multiple elements of the first set that\n",
    "are mapped to the same element of the second set). A bijection or bijective mapping is\n",
    "a function that is both injective and surjective. It provides a one-to-one correspondence\n",
    "between all members of the two sets. A diffeomorphism is a special case of a bijection\n",
    "where both the forward and reverse mapping are differentiable."
   ]
  },
  {
   "cell_type": "markdown",
   "id": "e3858cf1-97b5-4474-905e-57c35a3fde03",
   "metadata": {},
   "source": []
  }
 ],
 "metadata": {
  "kernelspec": {
   "display_name": "Python 3 (ipykernel)",
   "language": "python",
   "name": "python3"
  },
  "language_info": {
   "codemirror_mode": {
    "name": "ipython",
    "version": 3
   },
   "file_extension": ".py",
   "mimetype": "text/x-python",
   "name": "python",
   "nbconvert_exporter": "python",
   "pygments_lexer": "ipython3",
   "version": "3.13.0"
  }
 },
 "nbformat": 4,
 "nbformat_minor": 5
}
