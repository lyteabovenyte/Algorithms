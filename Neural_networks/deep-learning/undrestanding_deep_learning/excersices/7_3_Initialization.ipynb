{
  "nbformat": 4,
  "nbformat_minor": 0,
  "metadata": {
    "colab": {
      "provenance": []
    },
    "kernelspec": {
      "name": "python3",
      "display_name": "Python 3"
    },
    "language_info": {
      "name": "python"
    }
  },
  "cells": [
    {
      "cell_type": "markdown",
      "metadata": {
        "id": "view-in-github"
      },
      "source": [
        "<a href=\"https://colab.research.google.com/github/udlbook/udlbook/blob/main/Notebooks/Chap07/7_3_Initialization.ipynb\" target=\"_parent\"><img src=\"https://colab.research.google.com/assets/colab-badge.svg\" alt=\"Open In Colab\"/></a>"
      ]
    },
    {
      "cell_type": "markdown",
      "source": [
        "# **Notebook 7.3: Initialization**\n",
        "\n",
        "This notebook explores weight initialization in deep neural networks as described in section 7.5 of the book.\n",
        "\n",
        "Work through the cells below, running each cell in turn. In various places you will see the words \"TODO\". Follow the instructions at these places and make predictions about what is going to happen or write code to complete the functions.\n",
        "\n",
        "Contact me at udlbookmail@gmail.com if you find any mistakes or have any suggestions."
      ],
      "metadata": {
        "id": "L6chybAVFJW2"
      }
    },
    {
      "cell_type": "code",
      "execution_count": 1,
      "metadata": {
        "id": "LdIDglk1FFcG"
      },
      "outputs": [],
      "source": [
        "import numpy as np\n",
        "import matplotlib.pyplot as plt"
      ]
    },
    {
      "cell_type": "markdown",
      "source": [
        "First let's define a neural network.  We'll just choose the weights and biases randomly for now"
      ],
      "metadata": {
        "id": "nnUoI0m6GyjC"
      }
    },
    {
      "cell_type": "code",
      "source": [
        "def init_params(K, D, sigma_sq_omega):\n",
        "  # Set seed so we always get the same random numbers\n",
        "  np.random.seed(0)\n",
        "\n",
        "  # Input layer\n",
        "  D_i = 1\n",
        "  # Output layer\n",
        "  D_o = 1\n",
        "\n",
        "  # Make empty lists\n",
        "  all_weights = [None] * (K+1)\n",
        "  all_biases = [None] * (K+1)\n",
        "\n",
        "  # Create input and output layers\n",
        "  all_weights[0] = np.random.normal(size=(D, D_i))*np.sqrt(sigma_sq_omega)\n",
        "  all_weights[-1] = np.random.normal(size=(D_o, D)) * np.sqrt(sigma_sq_omega)\n",
        "  all_biases[0] = np.zeros((D,1))\n",
        "  all_biases[-1]= np.zeros((D_o,1))\n",
        "\n",
        "  # Create intermediate layers\n",
        "  for layer in range(1,K):\n",
        "    all_weights[layer] = np.random.normal(size=(D,D))*np.sqrt(sigma_sq_omega)\n",
        "    all_biases[layer] = np.zeros((D,1))\n",
        "\n",
        "  return all_weights, all_biases"
      ],
      "metadata": {
        "id": "WVM4Tc_jGI0Q"
      },
      "execution_count": 3,
      "outputs": []
    },
    {
      "cell_type": "code",
      "source": [
        "# Define the Rectified Linear Unit (ReLU) function\n",
        "def ReLU(preactivation):\n",
        "  activation = preactivation.clip(0.0)\n",
        "  return activation"
      ],
      "metadata": {
        "id": "jZh-7bPXIDq4"
      },
      "execution_count": 4,
      "outputs": []
    },
    {
      "cell_type": "code",
      "source": [
        "def compute_network_output(net_input, all_weights, all_biases):\n",
        "\n",
        "  # Retrieve number of layers\n",
        "  K = len(all_weights)-1\n",
        "\n",
        "  # We'll store the pre-activations at each layer in a list \"all_f\"\n",
        "  # and the activations in a second list \"all_h\".\n",
        "  all_f = [None] * (K+1)\n",
        "  all_h = [None] * (K+1)\n",
        "\n",
        "  #For convenience, we'll set\n",
        "  # all_h[0] to be the input, and all_f[K] will be the output\n",
        "  all_h[0] = net_input\n",
        "\n",
        "  # Run through the layers, calculating all_f[0...K-1] and all_h[1...K]\n",
        "  for layer in range(K):\n",
        "      # Update preactivations and activations at this layer according to eqn 7.5\n",
        "      all_f[layer] = all_biases[layer] + np.matmul(all_weights[layer], all_h[layer])\n",
        "      all_h[layer+1] = ReLU(all_f[layer])\n",
        "\n",
        "  # Compute the output from the last hidden layer\n",
        "  all_f[K] = all_biases[K] + np.matmul(all_weights[K], all_h[K])\n",
        "\n",
        "  # Retrieve the output\n",
        "  net_output = all_f[K]\n",
        "\n",
        "  return net_output, all_f, all_h"
      ],
      "metadata": {
        "id": "LgquJUJvJPaN"
      },
      "execution_count": 5,
      "outputs": []
    },
    {
      "cell_type": "markdown",
      "source": [
        "Now let's investigate how the size of the outputs vary as we change the initialization variance:\n"
      ],
      "metadata": {
        "id": "bIUrcXnOqChl"
      }
    },
    {
      "cell_type": "code",
      "source": [
        "# Number of layers\n",
        "K = 5\n",
        "# Number of neurons per layer\n",
        "D = 8\n",
        "# Input layer\n",
        "D_i = 1\n",
        "# Output layer\n",
        "D_o = 1\n",
        "# Set variance of initial weights to 1\n",
        "sigma_sq_omega = 1.0\n",
        "# Initialize parameters\n",
        "all_weights, all_biases = init_params(K,D,sigma_sq_omega)\n",
        "\n",
        "n_data = 1000\n",
        "data_in = np.random.normal(size=(1,n_data))\n",
        "net_output, all_f, all_h = compute_network_output(data_in, all_weights, all_biases)\n",
        "\n",
        "for layer in range(1,K+1):\n",
        "  print(\"Layer %d, std of hidden units = %3.3f\"%(layer, np.std(all_h[layer])))"
      ],
      "metadata": {
        "id": "A55z3rKBqO7M",
        "colab": {
          "base_uri": "https://localhost:8080/"
        },
        "outputId": "b4a14098-c427-48b0-a3ea-86e004a5dc1a"
      },
      "execution_count": 6,
      "outputs": [
        {
          "output_type": "stream",
          "name": "stdout",
          "text": [
            "Layer 1, std of hidden units = 0.811\n",
            "Layer 2, std of hidden units = 1.472\n",
            "Layer 3, std of hidden units = 4.547\n",
            "Layer 4, std of hidden units = 8.896\n",
            "Layer 5, std of hidden units = 10.106\n"
          ]
        }
      ]
    },
    {
      "cell_type": "code",
      "source": [
        "# You can see that the values of the hidden units are increasing on average (the variance is across all hidden units at the layer\n",
        "# and the 1000 training examples\n",
        "\n",
        "# TODO\n",
        "# Change this to 50 layers with 80 hidden units per layer\n",
        "# Number of layers\n",
        "K = 50\n",
        "# Number of neurons per layer\n",
        "D = 80\n",
        "# Input layer\n",
        "D_i = 1\n",
        "# Output layer\n",
        "D_o = 1\n",
        "# Set variance of initial weights to 1\n",
        "sigma_sq_omega = 0.035\n",
        "# Initialize parameters\n",
        "all_weights, all_biases = init_params(K,D,sigma_sq_omega)\n",
        "\n",
        "n_data = 1000\n",
        "data_in = np.random.normal(size=(1,n_data))\n",
        "net_output, all_f, all_h = compute_network_output(data_in, all_weights, all_biases)\n",
        "\n",
        "for layer in range(1,K+1):\n",
        "  print(\"Layer %d, std of hidden units = %3.3f\"%(layer, np.std(all_h[layer])))\n",
        "\n",
        "# TODO\n",
        "# Now experiment with sigma_sq_omega to try to stop the variance of the forward computation exploding"
      ],
      "metadata": {
        "id": "VL_SO4tar3DC",
        "colab": {
          "base_uri": "https://localhost:8080/"
        },
        "outputId": "d80918de-fa38-416d-c9b2-76345ff091e4"
      },
      "execution_count": 18,
      "outputs": [
        {
          "output_type": "stream",
          "name": "stdout",
          "text": [
            "Layer 1, std of hidden units = 0.116\n",
            "Layer 2, std of hidden units = 0.109\n",
            "Layer 3, std of hidden units = 0.138\n",
            "Layer 4, std of hidden units = 0.198\n",
            "Layer 5, std of hidden units = 0.258\n",
            "Layer 6, std of hidden units = 0.271\n",
            "Layer 7, std of hidden units = 0.299\n",
            "Layer 8, std of hidden units = 0.365\n",
            "Layer 9, std of hidden units = 0.376\n",
            "Layer 10, std of hidden units = 0.387\n",
            "Layer 11, std of hidden units = 0.482\n",
            "Layer 12, std of hidden units = 0.502\n",
            "Layer 13, std of hidden units = 0.578\n",
            "Layer 14, std of hidden units = 0.686\n",
            "Layer 15, std of hidden units = 0.796\n",
            "Layer 16, std of hidden units = 0.968\n",
            "Layer 17, std of hidden units = 1.217\n",
            "Layer 18, std of hidden units = 1.547\n",
            "Layer 19, std of hidden units = 1.796\n",
            "Layer 20, std of hidden units = 2.758\n",
            "Layer 21, std of hidden units = 2.753\n",
            "Layer 22, std of hidden units = 3.266\n",
            "Layer 23, std of hidden units = 4.072\n",
            "Layer 24, std of hidden units = 5.501\n",
            "Layer 25, std of hidden units = 7.123\n",
            "Layer 26, std of hidden units = 7.998\n",
            "Layer 27, std of hidden units = 8.076\n",
            "Layer 28, std of hidden units = 9.275\n",
            "Layer 29, std of hidden units = 13.624\n",
            "Layer 30, std of hidden units = 18.483\n",
            "Layer 31, std of hidden units = 18.247\n",
            "Layer 32, std of hidden units = 15.284\n",
            "Layer 33, std of hidden units = 17.131\n",
            "Layer 34, std of hidden units = 20.205\n",
            "Layer 35, std of hidden units = 24.696\n",
            "Layer 36, std of hidden units = 26.166\n",
            "Layer 37, std of hidden units = 33.894\n",
            "Layer 38, std of hidden units = 34.425\n",
            "Layer 39, std of hidden units = 40.582\n",
            "Layer 40, std of hidden units = 48.905\n",
            "Layer 41, std of hidden units = 62.310\n",
            "Layer 42, std of hidden units = 80.829\n",
            "Layer 43, std of hidden units = 88.499\n",
            "Layer 44, std of hidden units = 111.008\n",
            "Layer 45, std of hidden units = 155.614\n",
            "Layer 46, std of hidden units = 175.249\n",
            "Layer 47, std of hidden units = 219.627\n",
            "Layer 48, std of hidden units = 219.199\n",
            "Layer 49, std of hidden units = 239.715\n",
            "Layer 50, std of hidden units = 301.039\n"
          ]
        }
      ]
    },
    {
      "cell_type": "markdown",
      "source": [
        "Now let's define a loss function.  We'll just use the least squares loss function. We'll also write a function to compute dloss_doutput\n"
      ],
      "metadata": {
        "id": "SxVTKp3IcoBF"
      }
    },
    {
      "cell_type": "code",
      "source": [
        "def least_squares_loss(net_output, y):\n",
        "  return np.sum((net_output-y) * (net_output-y))\n",
        "\n",
        "def d_loss_d_output(net_output, y):\n",
        "    return 2*(net_output -y);"
      ],
      "metadata": {
        "id": "6XqWSYWJdhQR"
      },
      "execution_count": 19,
      "outputs": []
    },
    {
      "cell_type": "markdown",
      "source": [
        "Here's the code for the backward pass"
      ],
      "metadata": {
        "id": "98WmyqFYWA-0"
      }
    },
    {
      "cell_type": "code",
      "source": [
        "# We'll need the indicator function\n",
        "def indicator_function(x):\n",
        "  x_in = np.array(x)\n",
        "  x_in[x_in>=0] = 1\n",
        "  x_in[x_in<0] = 0\n",
        "  return x_in\n",
        "\n",
        "# Main backward pass routine\n",
        "def backward_pass(all_weights, all_biases, all_f, all_h, y):\n",
        "  # Retrieve number of layers\n",
        "  K = len(all_weights) - 1\n",
        "\n",
        "  # We'll store the derivatives dl_dweights and dl_dbiases in lists as well\n",
        "  all_dl_dweights = [None] * (K+1)\n",
        "  all_dl_dbiases = [None] * (K+1)\n",
        "  # And we'll store the derivatives of the loss with respect to the activation and preactivations in lists\n",
        "  all_dl_df = [None] * (K+1)\n",
        "  all_dl_dh = [None] * (K+1)\n",
        "  # Again for convenience we'll stick with the convention that all_h[0] is the net input and all_f[k] in the net output\n",
        "\n",
        "  # Compute derivatives of net output with respect to loss\n",
        "  all_dl_df[K] = np.array(d_loss_d_output(all_f[K],y))\n",
        "\n",
        "  # Now work backwards through the network\n",
        "  for layer in range(K,-1,-1):\n",
        "    # Calculate the derivatives of biases at layer from all_dl_df[K]. (eq 7.13, line 1)\n",
        "    all_dl_dbiases[layer] = np.array(all_dl_df[layer])\n",
        "    # Calculate the derivatives of weight at layer from all_dl_df[K] and all_h[K] (eq 7.13, line 2)\n",
        "    all_dl_dweights[layer] = np.matmul(all_dl_df[layer], all_h[layer].transpose())\n",
        "\n",
        "    # Calculate the derivatives of activations from weight and derivatives of next preactivations (eq 7.13, line 3 second part)\n",
        "    all_dl_dh[layer] = np.matmul(all_weights[layer].transpose(), all_dl_df[layer])\n",
        "    # Calculate the derivatives of the pre-activation f with respect to activation h (eq 7.13, line 3, first part)\n",
        "    if layer > 0:\n",
        "      all_dl_df[layer-1] = indicator_function(all_f[layer-1]) * all_dl_dh[layer]\n",
        "\n",
        "  return all_dl_dweights, all_dl_dbiases, all_dl_dh, all_dl_df"
      ],
      "metadata": {
        "id": "LJng7WpRPLMz"
      },
      "execution_count": 20,
      "outputs": []
    },
    {
      "cell_type": "markdown",
      "source": [
        "Now let's look at what happens to the magnitude of the gradients on the way back."
      ],
      "metadata": {
        "id": "phFnbthqwhFi"
      }
    },
    {
      "cell_type": "code",
      "source": [
        "# Number of layers\n",
        "K = 50\n",
        "# Number of neurons per layer\n",
        "D = 80\n",
        "# Input layer\n",
        "D_i = 1\n",
        "# Output layer\n",
        "D_o = 1\n",
        "# Set variance of initial weights to 1\n",
        "sigma_sq_omega = 0.03\n",
        "# Initialize parameters\n",
        "all_weights, all_biases = init_params(K,D,sigma_sq_omega)\n",
        "\n",
        "# For simplicity we'll just consider the gradients of the weights and biases between the first and last hidden layer\n",
        "n_data = 100\n",
        "aggregate_dl_df = [None] * (K+1)\n",
        "for layer in range(1,K):\n",
        "  # These 3D arrays will store the gradients for every data point\n",
        "  aggregate_dl_df[layer] = np.zeros((D,n_data))\n",
        "\n",
        "\n",
        "# We'll have to compute the derivatives of the parameters for each data point separately\n",
        "for c_data in range(n_data):\n",
        "  data_in = np.random.normal(size=(1,1))\n",
        "  y = np.zeros((1,1))\n",
        "  net_output, all_f, all_h = compute_network_output(data_in, all_weights, all_biases)\n",
        "  all_dl_dweights, all_dl_dbiases, all_dl_dh, all_dl_df = backward_pass(all_weights, all_biases, all_f, all_h, y)\n",
        "  for layer in range(1,K):\n",
        "    aggregate_dl_df[layer][:,c_data] = np.squeeze(all_dl_df[layer])\n",
        "\n",
        "for layer in range(1,K):\n",
        "  print(\"Layer %d, std of dl_dh = %3.3f\"%(layer, np.std(aggregate_dl_df[layer].ravel())))\n"
      ],
      "metadata": {
        "id": "9A9MHc4sQvbp",
        "colab": {
          "base_uri": "https://localhost:8080/"
        },
        "outputId": "6a23d31b-1585-4e7b-e6f9-310307b69eb7"
      },
      "execution_count": 26,
      "outputs": [
        {
          "output_type": "stream",
          "name": "stdout",
          "text": [
            "Layer 1, std of dl_dh = 277.407\n",
            "Layer 2, std of dl_dh = 267.048\n",
            "Layer 3, std of dl_dh = 278.201\n",
            "Layer 4, std of dl_dh = 248.859\n",
            "Layer 5, std of dl_dh = 211.970\n",
            "Layer 6, std of dl_dh = 201.306\n",
            "Layer 7, std of dl_dh = 192.209\n",
            "Layer 8, std of dl_dh = 157.027\n",
            "Layer 9, std of dl_dh = 143.825\n",
            "Layer 10, std of dl_dh = 149.252\n",
            "Layer 11, std of dl_dh = 138.974\n",
            "Layer 12, std of dl_dh = 127.547\n",
            "Layer 13, std of dl_dh = 106.351\n",
            "Layer 14, std of dl_dh = 100.830\n",
            "Layer 15, std of dl_dh = 96.427\n",
            "Layer 16, std of dl_dh = 80.132\n",
            "Layer 17, std of dl_dh = 62.544\n",
            "Layer 18, std of dl_dh = 57.883\n",
            "Layer 19, std of dl_dh = 47.348\n",
            "Layer 20, std of dl_dh = 53.106\n",
            "Layer 21, std of dl_dh = 44.569\n",
            "Layer 22, std of dl_dh = 36.050\n",
            "Layer 23, std of dl_dh = 34.043\n",
            "Layer 24, std of dl_dh = 27.309\n",
            "Layer 25, std of dl_dh = 25.572\n",
            "Layer 26, std of dl_dh = 32.532\n",
            "Layer 27, std of dl_dh = 24.597\n",
            "Layer 28, std of dl_dh = 24.874\n",
            "Layer 29, std of dl_dh = 24.549\n",
            "Layer 30, std of dl_dh = 24.231\n",
            "Layer 31, std of dl_dh = 22.683\n",
            "Layer 32, std of dl_dh = 20.011\n",
            "Layer 33, std of dl_dh = 19.320\n",
            "Layer 34, std of dl_dh = 19.856\n",
            "Layer 35, std of dl_dh = 16.891\n",
            "Layer 36, std of dl_dh = 15.619\n",
            "Layer 37, std of dl_dh = 12.557\n",
            "Layer 38, std of dl_dh = 11.054\n",
            "Layer 39, std of dl_dh = 9.027\n",
            "Layer 40, std of dl_dh = 9.209\n",
            "Layer 41, std of dl_dh = 8.328\n",
            "Layer 42, std of dl_dh = 9.168\n",
            "Layer 43, std of dl_dh = 9.171\n",
            "Layer 44, std of dl_dh = 9.173\n",
            "Layer 45, std of dl_dh = 9.036\n",
            "Layer 46, std of dl_dh = 7.908\n",
            "Layer 47, std of dl_dh = 7.366\n",
            "Layer 48, std of dl_dh = 6.169\n",
            "Layer 49, std of dl_dh = 4.783\n"
          ]
        }
      ]
    },
    {
      "cell_type": "code",
      "source": [
        "# You can see that the gradients of the hidden units are increasing on average (the standard deviation is across all hidden units at the layer\n",
        "# and the 100 training examples\n",
        "\n",
        "# TODO\n",
        "# Change this to 50 layers with 80 hidden units per layer\n",
        "\n",
        "# TODO\n",
        "# Now experiment with sigma_sq_omega to try to stop the variance of the gradients exploding\n"
      ],
      "metadata": {
        "id": "gtokc0VX0839"
      },
      "execution_count": null,
      "outputs": []
    }
  ]
}