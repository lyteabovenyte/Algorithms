{
 "cells": [
  {
   "cell_type": "code",
   "execution_count": 11,
   "id": "3d6c9742-5c84-4d5f-853e-37d6d22f050e",
   "metadata": {},
   "outputs": [],
   "source": [
    "import torch\n",
    "import torch.nn as nn"
   ]
  },
  {
   "cell_type": "code",
   "execution_count": 10,
   "id": "3da3a2ed-39a1-4dd6-8884-3686c928a389",
   "metadata": {},
   "outputs": [
    {
     "data": {
      "text/plain": [
       "tensor([0, 1, 0, 1, 2, 2, 0, 2, 2, 2, 0, 1])"
      ]
     },
     "execution_count": 10,
     "metadata": {},
     "output_type": "execute_result"
    }
   ],
   "source": [
    "torch.randint(0, 3, (12,)) # helpful for batch normalization (selecting each batch)"
   ]
  },
  {
   "cell_type": "markdown",
   "id": "58d03811-cfc0-4a2a-b19b-47e3da6bec6c",
   "metadata": {},
   "source": [
    "#### embedding:"
   ]
  },
  {
   "cell_type": "code",
   "execution_count": 12,
   "id": "bc14b112-3c28-41c5-82fd-18c9584f6ac2",
   "metadata": {},
   "outputs": [],
   "source": [
    "vocab_size = 27\n",
    "embed_dim = 10"
   ]
  },
  {
   "cell_type": "code",
   "execution_count": 14,
   "id": "85c8259f-eb02-46de-b341-39e66d1d50c3",
   "metadata": {},
   "outputs": [],
   "source": [
    "embedding_layer = nn.Embedding(vocab_size, embed_dim)"
   ]
  },
  {
   "cell_type": "code",
   "execution_count": 15,
   "id": "ecd31375-6913-461d-be5a-4cc73c7bdb27",
   "metadata": {},
   "outputs": [
    {
     "data": {
      "text/plain": [
       "Embedding(27, 10)"
      ]
     },
     "execution_count": 15,
     "metadata": {},
     "output_type": "execute_result"
    }
   ],
   "source": [
    "embedding_layer"
   ]
  },
  {
   "cell_type": "code",
   "execution_count": 16,
   "id": "c07ec24e-5d7c-4bcb-8ce8-39e9854e8feb",
   "metadata": {},
   "outputs": [],
   "source": [
    "input_chars = torch.tensor([0, 1, 2])"
   ]
  },
  {
   "cell_type": "code",
   "execution_count": 17,
   "id": "4530b3c2-0dcd-43d6-b852-c135a34a9946",
   "metadata": {},
   "outputs": [],
   "source": [
    "embedding = embedding_layer(input_chars)"
   ]
  },
  {
   "cell_type": "code",
   "execution_count": 20,
   "id": "eca0026a-e0bc-4430-8df5-06325b6af4e1",
   "metadata": {},
   "outputs": [
    {
     "data": {
      "text/plain": [
       "torch.Size([3, 10])"
      ]
     },
     "execution_count": 20,
     "metadata": {},
     "output_type": "execute_result"
    }
   ],
   "source": [
    "embedding.shape"
   ]
  },
  {
   "cell_type": "code",
   "execution_count": 21,
   "id": "c1dcfa04-d925-4a45-9767-93592d1f6216",
   "metadata": {},
   "outputs": [
    {
     "data": {
      "text/plain": [
       "tensor([[-1.7435,  0.4336,  0.3688, -1.0783,  0.1347,  0.0563,  0.0418, -1.2991,\n",
       "         -0.8628,  0.8170],\n",
       "        [-0.6429, -1.9867, -0.9489, -0.0880, -0.8094, -0.7577, -1.1753,  1.0280,\n",
       "          1.5878,  0.2157],\n",
       "        [-1.4850, -1.3887, -3.9216, -0.2569, -1.2166,  1.4452, -0.6474,  0.3511,\n",
       "         -0.4314,  2.1846]], grad_fn=<EmbeddingBackward0>)"
      ]
     },
     "execution_count": 21,
     "metadata": {},
     "output_type": "execute_result"
    }
   ],
   "source": [
    "embedding"
   ]
  },
  {
   "cell_type": "markdown",
   "id": "58f0101a-ca14-4c53-a9bb-d9c8624531c8",
   "metadata": {},
   "source": [
    "#### tanh: hyperbolic tangent:\n",
    "$f(x) = \\frac{e^x - e^{-x}}{e^x + e^{-x}}$\n"
   ]
  },
  {
   "cell_type": "code",
   "execution_count": null,
   "id": "f6ad1aad-8d68-4cda-b4d6-b55e4eb48259",
   "metadata": {},
   "outputs": [],
   "source": []
  }
 ],
 "metadata": {
  "kernelspec": {
   "display_name": "Python 3 (ipykernel)",
   "language": "python",
   "name": "python3"
  },
  "language_info": {
   "codemirror_mode": {
    "name": "ipython",
    "version": 3
   },
   "file_extension": ".py",
   "mimetype": "text/x-python",
   "name": "python",
   "nbconvert_exporter": "python",
   "pygments_lexer": "ipython3",
   "version": "3.13.0"
  }
 },
 "nbformat": 4,
 "nbformat_minor": 5
}
